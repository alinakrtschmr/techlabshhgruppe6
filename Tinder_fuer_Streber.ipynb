{
 "cells": [
  {
   "cell_type": "markdown",
   "metadata": {},
   "source": [
    "# Import"
   ]
  },
  {
   "cell_type": "markdown",
   "metadata": {},
   "source": [
    "Erstmal werde alle Funktionen importiert"
   ]
  },
  {
   "cell_type": "code",
   "execution_count": 1,
   "metadata": {},
   "outputs": [],
   "source": [
    "import numpy as np\n",
    "import pandas as pd\n",
    "import seaborn as sns\n",
    "import matplotlib.pyplot as plt\n",
    "plt.style.use('fivethirtyeight')\n",
    "import warnings\n",
    "warnings.filterwarnings('ignore')\n",
    "%matplotlib inline\n",
    "from sklearn.cluster import KMeans"
   ]
  },
  {
   "cell_type": "markdown",
   "metadata": {},
   "source": [
    "# Tinder für Streber"
   ]
  },
  {
   "cell_type": "markdown",
   "metadata": {},
   "source": [
    "Tinder für Streber ist eine Plattform, die es Studenten ermöglicht einen Lernpartner zu finden. Hierfür suchen sie nach bestimmten Modulen, anhand derer sie gematcht werden. Wir haben uns hierbei auf das Jurastudium an drei Universitäten fokussiert (Heidelberg, Münster und Bayreuth). "
   ]
  },
  {
   "cell_type": "markdown",
   "metadata": {},
   "source": [
    "## Importieren der Daten"
   ]
  },
  {
   "cell_type": "markdown",
   "metadata": {},
   "source": [
    "#### Das sind die Daten der Unis:"
   ]
  },
  {
   "cell_type": "markdown",
   "metadata": {},
   "source": [
    "Wir haben anhand der Semesterpläne der Unis Münster, Heidelberg und Bayreuth die unterrichteten Module in einer Excel Tabelle (https://docs.google.com/spreadsheets/d/10gKSfIswyX1gq1vjlNtGStApSSlrRnuwQNZox-6nhz4/edit?usp=sharing) zusammengetragen und mit einer Modul ID versehen. Diese Modul ID wurde benötigt, da die Module an den verschiedenen Unis teilweise unterschiedlich benannt werden. "
   ]
  },
  {
   "cell_type": "code",
   "execution_count": 2,
   "metadata": {},
   "outputs": [],
   "source": [
    "file_path = 'DatenStudymatch.csv'"
   ]
  },
  {
   "cell_type": "code",
   "execution_count": 3,
   "metadata": {},
   "outputs": [],
   "source": [
    "df = pd.read_csv(file_path)"
   ]
  },
  {
   "cell_type": "code",
   "execution_count": 4,
   "metadata": {},
   "outputs": [
    {
     "name": "stdout",
     "output_type": "stream",
     "text": [
      "<class 'pandas.core.frame.DataFrame'>\n",
      "RangeIndex: 114 entries, 0 to 113\n",
      "Data columns (total 7 columns):\n",
      " #   Column    Non-Null Count  Dtype  \n",
      "---  ------    --------------  -----  \n",
      " 0   semester  114 non-null    int64  \n",
      " 1   modul     114 non-null    object \n",
      " 2   modul_id  106 non-null    float64\n",
      " 3   Credits   0 non-null      float64\n",
      " 4   SWS       84 non-null     object \n",
      " 5   Uni       114 non-null    object \n",
      " 6   uni_id    114 non-null    int64  \n",
      "dtypes: float64(2), int64(2), object(3)\n",
      "memory usage: 6.4+ KB\n"
     ]
    }
   ],
   "source": [
    "df.info()"
   ]
  },
  {
   "cell_type": "code",
   "execution_count": 5,
   "metadata": {},
   "outputs": [
    {
     "data": {
      "text/html": [
       "<div>\n",
       "<style scoped>\n",
       "    .dataframe tbody tr th:only-of-type {\n",
       "        vertical-align: middle;\n",
       "    }\n",
       "\n",
       "    .dataframe tbody tr th {\n",
       "        vertical-align: top;\n",
       "    }\n",
       "\n",
       "    .dataframe thead th {\n",
       "        text-align: right;\n",
       "    }\n",
       "</style>\n",
       "<table border=\"1\" class=\"dataframe\">\n",
       "  <thead>\n",
       "    <tr style=\"text-align: right;\">\n",
       "      <th></th>\n",
       "      <th>semester</th>\n",
       "      <th>modul</th>\n",
       "      <th>modul_id</th>\n",
       "      <th>Credits</th>\n",
       "      <th>SWS</th>\n",
       "      <th>Uni</th>\n",
       "      <th>uni_id</th>\n",
       "    </tr>\n",
       "  </thead>\n",
       "  <tbody>\n",
       "    <tr>\n",
       "      <th>0</th>\n",
       "      <td>1</td>\n",
       "      <td>bgb_at</td>\n",
       "      <td>1.0</td>\n",
       "      <td>NaN</td>\n",
       "      <td>4</td>\n",
       "      <td>Bayreuth</td>\n",
       "      <td>3</td>\n",
       "    </tr>\n",
       "    <tr>\n",
       "      <th>1</th>\n",
       "      <td>1</td>\n",
       "      <td>Staatsorganisationsrecht</td>\n",
       "      <td>101.0</td>\n",
       "      <td>NaN</td>\n",
       "      <td>4</td>\n",
       "      <td>Bayreuth</td>\n",
       "      <td>3</td>\n",
       "    </tr>\n",
       "    <tr>\n",
       "      <th>2</th>\n",
       "      <td>1</td>\n",
       "      <td>strafrecht_1</td>\n",
       "      <td>201.0</td>\n",
       "      <td>NaN</td>\n",
       "      <td>4</td>\n",
       "      <td>Bayreuth</td>\n",
       "      <td>3</td>\n",
       "    </tr>\n",
       "    <tr>\n",
       "      <th>3</th>\n",
       "      <td>1</td>\n",
       "      <td>Bausteine des Rechts</td>\n",
       "      <td>301.0</td>\n",
       "      <td>NaN</td>\n",
       "      <td>2</td>\n",
       "      <td>Bayreuth</td>\n",
       "      <td>3</td>\n",
       "    </tr>\n",
       "    <tr>\n",
       "      <th>4</th>\n",
       "      <td>1</td>\n",
       "      <td>BWL Einführung</td>\n",
       "      <td>302.0</td>\n",
       "      <td>NaN</td>\n",
       "      <td>2</td>\n",
       "      <td>Bayreuth</td>\n",
       "      <td>3</td>\n",
       "    </tr>\n",
       "  </tbody>\n",
       "</table>\n",
       "</div>"
      ],
      "text/plain": [
       "   semester                     modul  modul_id  Credits SWS       Uni  uni_id\n",
       "0         1                    bgb_at       1.0      NaN   4  Bayreuth       3\n",
       "1         1  Staatsorganisationsrecht     101.0      NaN   4  Bayreuth       3\n",
       "2         1              strafrecht_1     201.0      NaN   4  Bayreuth       3\n",
       "3         1      Bausteine des Rechts     301.0      NaN   2  Bayreuth       3\n",
       "4         1            BWL Einführung     302.0      NaN   2  Bayreuth       3"
      ]
     },
     "execution_count": 5,
     "metadata": {},
     "output_type": "execute_result"
    }
   ],
   "source": [
    "df.head()"
   ]
  },
  {
   "cell_type": "markdown",
   "metadata": {},
   "source": [
    "#### Das sind die Daten für die Studenten:"
   ]
  },
  {
   "cell_type": "markdown",
   "metadata": {},
   "source": [
    "Dann haben wir noch einen weiteren Datensatz mit 12 fiktiven Studenten erstellt."
   ]
  },
  {
   "cell_type": "code",
   "execution_count": 6,
   "metadata": {},
   "outputs": [],
   "source": [
    "file_path2 = 'Studenten.csv'"
   ]
  },
  {
   "cell_type": "code",
   "execution_count": 7,
   "metadata": {},
   "outputs": [],
   "source": [
    "df2 = pd.read_csv(file_path2)"
   ]
  },
  {
   "cell_type": "code",
   "execution_count": 8,
   "metadata": {},
   "outputs": [
    {
     "data": {
      "text/html": [
       "<div>\n",
       "<style scoped>\n",
       "    .dataframe tbody tr th:only-of-type {\n",
       "        vertical-align: middle;\n",
       "    }\n",
       "\n",
       "    .dataframe tbody tr th {\n",
       "        vertical-align: top;\n",
       "    }\n",
       "\n",
       "    .dataframe thead th {\n",
       "        text-align: right;\n",
       "    }\n",
       "</style>\n",
       "<table border=\"1\" class=\"dataframe\">\n",
       "  <thead>\n",
       "    <tr style=\"text-align: right;\">\n",
       "      <th></th>\n",
       "      <th>Name</th>\n",
       "      <th>Semester</th>\n",
       "      <th>Uni</th>\n",
       "      <th>Auswahl</th>\n",
       "    </tr>\n",
       "  </thead>\n",
       "  <tbody>\n",
       "    <tr>\n",
       "      <th>0</th>\n",
       "      <td>Lisa Müller</td>\n",
       "      <td>4</td>\n",
       "      <td>Bayreuth</td>\n",
       "      <td>Handelsrecht</td>\n",
       "    </tr>\n",
       "    <tr>\n",
       "      <th>1</th>\n",
       "      <td>Lisa Müller</td>\n",
       "      <td>4</td>\n",
       "      <td>Bayreuth</td>\n",
       "      <td>Gesellschaftsrecht I</td>\n",
       "    </tr>\n",
       "    <tr>\n",
       "      <th>2</th>\n",
       "      <td>Lisa Müller</td>\n",
       "      <td>4</td>\n",
       "      <td>Bayreuth</td>\n",
       "      <td>Besonderes Verwaltungsrecht</td>\n",
       "    </tr>\n",
       "    <tr>\n",
       "      <th>3</th>\n",
       "      <td>Lisa Müller</td>\n",
       "      <td>4</td>\n",
       "      <td>Bayreuth</td>\n",
       "      <td>Strafprozessrecht</td>\n",
       "    </tr>\n",
       "    <tr>\n",
       "      <th>4</th>\n",
       "      <td>Lukas Justus</td>\n",
       "      <td>5</td>\n",
       "      <td>Bayreuth</td>\n",
       "      <td>Erbrecht</td>\n",
       "    </tr>\n",
       "  </tbody>\n",
       "</table>\n",
       "</div>"
      ],
      "text/plain": [
       "           Name  Semester       Uni                      Auswahl\n",
       "0   Lisa Müller         4  Bayreuth                 Handelsrecht\n",
       "1   Lisa Müller         4  Bayreuth         Gesellschaftsrecht I\n",
       "2   Lisa Müller         4  Bayreuth  Besonderes Verwaltungsrecht\n",
       "3   Lisa Müller         4  Bayreuth            Strafprozessrecht\n",
       "4  Lukas Justus         5  Bayreuth                     Erbrecht"
      ]
     },
     "execution_count": 8,
     "metadata": {},
     "output_type": "execute_result"
    }
   ],
   "source": [
    "df2.head()"
   ]
  },
  {
   "cell_type": "markdown",
   "metadata": {},
   "source": [
    "## Bereinigen der Daten"
   ]
  },
  {
   "cell_type": "markdown",
   "metadata": {},
   "source": [
    "#### Daten der Unis:"
   ]
  },
  {
   "cell_type": "markdown",
   "metadata": {},
   "source": [
    "Wir haben uns überlegt, dass man die Credits, SWS und die Uni Id erstmal gar nicht braucht. Die Uni ID ist generell nicht unbedingt nötig und die Semesterwochenstunden und Credits wären weitere Faktoren, die man beim Matching später mit in Betracht ziehen kann. Wir haben beschlossen uns aber erstmal nur auf die Module zu konzentireren."
   ]
  },
  {
   "cell_type": "code",
   "execution_count": 9,
   "metadata": {},
   "outputs": [],
   "source": [
    "data = df.drop(['Credits','SWS','uni_id'], axis=1)"
   ]
  },
  {
   "cell_type": "markdown",
   "metadata": {},
   "source": [
    "Wir haben gesehen, dass es nicht sehr viele fehlende Werte gibt und die Zeilen einfach gelöscht."
   ]
  },
  {
   "cell_type": "code",
   "execution_count": 10,
   "metadata": {},
   "outputs": [],
   "source": [
    "data = data.dropna()"
   ]
  },
  {
   "cell_type": "code",
   "execution_count": 11,
   "metadata": {},
   "outputs": [
    {
     "data": {
      "image/png": "[encoded data removed]",
      "text/plain": [
       "<Figure size 432x288 with 1 Axes>"
      ]
     },
     "metadata": {
      "needs_background": "light"
     },
     "output_type": "display_data"
    }
   ],
   "source": [
    "ax = sns.countplot(x=\"Uni\", hue=\"semester\", data=data)"
   ]
  },
  {
   "cell_type": "markdown",
   "metadata": {},
   "source": [
    "In der obigen Abbildung kann man sehen, dass nicht in allen Semestern gleich viele Module unterrichtet werden. Wir erwarten, dass beispielsweise in Heidelberg die Studenten im Vierten Semester am meisten Module suchen und im Sechsten Semester am wenigsten. An unseren Daten kann man das aber nicht erkennen, da wir diese selbst erstellt haben."
   ]
  },
  {
   "cell_type": "markdown",
   "metadata": {},
   "source": [
    "Da bei den Studenten Daten Semester groß geschrieben wird, musste das bei den Uni Daten auch so sein, was wir hier erstmal verändert haben."
   ]
  },
  {
   "cell_type": "code",
   "execution_count": 12,
   "metadata": {},
   "outputs": [],
   "source": [
    "data.rename(columns={'semester':'Semester'}, inplace=True)"
   ]
  },
  {
   "cell_type": "markdown",
   "metadata": {},
   "source": [
    "Im Nachhinein haben wir dann festgestellt, dass wir das Zusammenfügern der Daten nicht über das Semester machen wollen, da man ja auch etwas ein Semester später haben kann. Wir löschen also das Semester aus den Unidaten, da uns nur interessiert, in welchem Semester der Student gerade ist."
   ]
  },
  {
   "cell_type": "code",
   "execution_count": 13,
   "metadata": {},
   "outputs": [],
   "source": [
    "df = data.drop('Semester', axis=1)"
   ]
  },
  {
   "cell_type": "code",
   "execution_count": 14,
   "metadata": {},
   "outputs": [
    {
     "name": "stdout",
     "output_type": "stream",
     "text": [
      "<class 'pandas.core.frame.DataFrame'>\n",
      "Int64Index: 106 entries, 0 to 112\n",
      "Data columns (total 4 columns):\n",
      " #   Column    Non-Null Count  Dtype  \n",
      "---  ------    --------------  -----  \n",
      " 0   Semester  106 non-null    int64  \n",
      " 1   modul     106 non-null    object \n",
      " 2   modul_id  106 non-null    float64\n",
      " 3   Uni       106 non-null    object \n",
      "dtypes: float64(1), int64(1), object(2)\n",
      "memory usage: 4.1+ KB\n"
     ]
    }
   ],
   "source": [
    "data.info()"
   ]
  },
  {
   "cell_type": "markdown",
   "metadata": {},
   "source": [
    "#### Daten der Studenten:"
   ]
  },
  {
   "cell_type": "markdown",
   "metadata": {},
   "source": [
    "Bei den Daten der Studenten war das Einzige, was noch gemacht werden musste das Umbennenen von 'Auswahl' zu 'modul', sodass es zu den Daten der Unis passt, da wir die Datensätze später zusammenfügen wollen."
   ]
  },
  {
   "cell_type": "code",
   "execution_count": 15,
   "metadata": {},
   "outputs": [],
   "source": [
    "df2.rename(columns={'Auswahl':'modul'}, inplace=True)"
   ]
  },
  {
   "cell_type": "markdown",
   "metadata": {},
   "source": [
    "## Erste Versuche der Datenverarbeitung"
   ]
  },
  {
   "cell_type": "markdown",
   "metadata": {},
   "source": [
    "Als ersten Schritt, um uns mit dem Aufbau der Daten und möglichen Schritten der Verarbeitung vertraut zu machen haben wir uns erstmal nur die Unidaten angesehen und nach Überschneidungen gesucht."
   ]
  },
  {
   "cell_type": "markdown",
   "metadata": {},
   "source": [
    "Hier haben wir uns erst überlegt die Daten in drei Dataframes, für jede Uni einen, aufzuteilen. Wri haben aber festgestellt, dass das gar nicht nötig ist."
   ]
  },
  {
   "cell_type": "code",
   "execution_count": 16,
   "metadata": {},
   "outputs": [],
   "source": [
    "#for uni in data['Uni']:\n",
    "#    data['Uni'] == 'Bayreuth'\n",
    "    "
   ]
  },
  {
   "cell_type": "markdown",
   "metadata": {},
   "source": [
    "Wir haben uns folgende Schritte überlegt, um erstmal für ein konkretes Modul herauszufinden, an welcher Uni das in welchem Semester angeboten wird:\n",
    "- Modul eingeben\n",
    "- Modul wird ID zugeordnet \n",
    "- ID wird in den Daten gesucht \n",
    "- DataFrame wird gefiltert - Unis + Semester etc werden andezeigt (mit gleicher Modul_Id) \n"
   ]
  },
  {
   "cell_type": "markdown",
   "metadata": {},
   "source": [
    "Hier haben wir erstmal die Daten nach dem Modul 'strafrecht_1' gefiltert und dessen Modul ID herausgefunden (2). Hier haben wir aber zunächst einen Dataframe als Output, obwohl wir eigentlich die Zahl wollen."
   ]
  },
  {
   "cell_type": "code",
   "execution_count": 17,
   "metadata": {},
   "outputs": [
    {
     "data": {
      "text/html": [
       "<div>\n",
       "<style scoped>\n",
       "    .dataframe tbody tr th:only-of-type {\n",
       "        vertical-align: middle;\n",
       "    }\n",
       "\n",
       "    .dataframe tbody tr th {\n",
       "        vertical-align: top;\n",
       "    }\n",
       "\n",
       "    .dataframe thead th {\n",
       "        text-align: right;\n",
       "    }\n",
       "</style>\n",
       "<table border=\"1\" class=\"dataframe\">\n",
       "  <thead>\n",
       "    <tr style=\"text-align: right;\">\n",
       "      <th></th>\n",
       "      <th>Semester</th>\n",
       "      <th>modul</th>\n",
       "      <th>modul_id</th>\n",
       "      <th>Uni</th>\n",
       "    </tr>\n",
       "  </thead>\n",
       "  <tbody>\n",
       "    <tr>\n",
       "      <th>2</th>\n",
       "      <td>1</td>\n",
       "      <td>strafrecht_1</td>\n",
       "      <td>201.0</td>\n",
       "      <td>Bayreuth</td>\n",
       "    </tr>\n",
       "  </tbody>\n",
       "</table>\n",
       "</div>"
      ],
      "text/plain": [
       "   Semester         modul  modul_id       Uni\n",
       "2         1  strafrecht_1     201.0  Bayreuth"
      ]
     },
     "execution_count": 17,
     "metadata": {},
     "output_type": "execute_result"
    }
   ],
   "source": [
    "modul = data[data['modul']=='strafrecht_1']\n",
    "modul.head()"
   ]
  },
  {
   "cell_type": "markdown",
   "metadata": {},
   "source": [
    "Wir haben dann überlegt, ob man das durch eie Schleife lösen könnte:"
   ]
  },
  {
   "cell_type": "code",
   "execution_count": 18,
   "metadata": {},
   "outputs": [
    {
     "name": "stdout",
     "output_type": "stream",
     "text": [
      "     Semester                       modul  modul_id       Uni\n",
      "0           1                      bgb_at       1.0  Bayreuth\n",
      "1           1    Staatsorganisationsrecht     101.0  Bayreuth\n",
      "2           1                strafrecht_1     201.0  Bayreuth\n",
      "3           1        Bausteine des Rechts     301.0  Bayreuth\n",
      "4           1              BWL Einführung     302.0  Bayreuth\n",
      "..        ...                         ...       ...       ...\n",
      "108         4          Gesellschaftsrecht       7.0   Münster\n",
      "109         5                       ZPO_2      15.0   Münster\n",
      "110         5                Handelsrecht       6.0   Münster\n",
      "111         5           Grundzüge_des_IPR      17.0   Münster\n",
      "112         5  Grundzüge_des_Arbeitsrecht       8.0   Münster\n",
      "\n",
      "[106 rows x 4 columns]\n"
     ]
    }
   ],
   "source": [
    "for modul_id in modul['modul_id']: \n",
    "    data[data['modul_id']==modul_id]\n",
    "    print(data)"
   ]
  },
  {
   "cell_type": "markdown",
   "metadata": {},
   "source": [
    "Die Modul ID, die wir durch diese Schleife herausgefunden haben, haben wir nun in dem Dataframe der Unis gesucht und haben als Output in welchem Semester das Modul an welcher Uni unterrichtet wird."
   ]
  },
  {
   "cell_type": "code",
   "execution_count": 19,
   "metadata": {},
   "outputs": [
    {
     "data": {
      "text/html": [
       "<div>\n",
       "<style scoped>\n",
       "    .dataframe tbody tr th:only-of-type {\n",
       "        vertical-align: middle;\n",
       "    }\n",
       "\n",
       "    .dataframe tbody tr th {\n",
       "        vertical-align: top;\n",
       "    }\n",
       "\n",
       "    .dataframe thead th {\n",
       "        text-align: right;\n",
       "    }\n",
       "</style>\n",
       "<table border=\"1\" class=\"dataframe\">\n",
       "  <thead>\n",
       "    <tr style=\"text-align: right;\">\n",
       "      <th></th>\n",
       "      <th>Semester</th>\n",
       "      <th>modul</th>\n",
       "      <th>modul_id</th>\n",
       "      <th>Uni</th>\n",
       "    </tr>\n",
       "  </thead>\n",
       "  <tbody>\n",
       "    <tr>\n",
       "      <th>2</th>\n",
       "      <td>1</td>\n",
       "      <td>strafrecht_1</td>\n",
       "      <td>201.0</td>\n",
       "      <td>Bayreuth</td>\n",
       "    </tr>\n",
       "    <tr>\n",
       "      <th>38</th>\n",
       "      <td>1</td>\n",
       "      <td>Grundkurs Strafrecht I</td>\n",
       "      <td>201.0</td>\n",
       "      <td>Heidelberg</td>\n",
       "    </tr>\n",
       "    <tr>\n",
       "      <th>86</th>\n",
       "      <td>1</td>\n",
       "      <td>Strafrecht 1</td>\n",
       "      <td>201.0</td>\n",
       "      <td>Münster</td>\n",
       "    </tr>\n",
       "  </tbody>\n",
       "</table>\n",
       "</div>"
      ],
      "text/plain": [
       "    Semester                   modul  modul_id         Uni\n",
       "2          1            strafrecht_1     201.0    Bayreuth\n",
       "38         1  Grundkurs Strafrecht I     201.0  Heidelberg\n",
       "86         1            Strafrecht 1     201.0     Münster"
      ]
     },
     "execution_count": 19,
     "metadata": {},
     "output_type": "execute_result"
    }
   ],
   "source": [
    "data[data['modul_id']==modul_id]"
   ]
  },
  {
   "cell_type": "markdown",
   "metadata": {},
   "source": [
    "### Überlegungen 08.03"
   ]
  },
  {
   "cell_type": "markdown",
   "metadata": {},
   "source": [
    "Folgende Überlegungen haben wir uns dann zum weiteren Vorgehen gemacht:"
   ]
  },
  {
   "cell_type": "markdown",
   "metadata": {},
   "source": [
    "- Daten zusammenfügen mit .join, wie in Tabellenblatt8 (in unserer Excel Datei) zu sehen\n",
    "- Das wird dann eine sehr große Tabelle mit den Personen, bei denen anhand der Uni und dem Semester Zeilen hinzugefügt werden\n",
    "- Dann muss man die Daten so umwandeln, dass da nur noch die bereits gemachten Module stehen (Da das Matching über das Semester läuft, müssen wir uns noch überlegen, wie wir die vorherigen Semester auch hinzufügen - sowas wie 1 bis x(=mein Semester)\n",
    "- In der Tabelle sind dann alle Module (bzw. die IDs), die die Person bis dahin schon gemacht hat drin.\n",
    "- Durch die Anzahl der Module ist dann auch klar welches Semester und welche Uni gemeint ist, da die Module davon abhängig sind, wir müssen also das beim Matchen nicht beachten.\n",
    "-  \n",
    "- Dann wendet man eine Methode darauf an, bei der man quasi eine bestimmte Person (nicht in dem Datensatz) mit den bestehenden Personen matcht, indem geguckt wird wieviele Module sich überschneiden.\n",
    "-  \n",
    "- Wir matchen jetzt welche Person insgesamt am besten passt, also zum generell gemeinsam lernen und nicht nach einem bestimmten Fach!"
   ]
  },
  {
   "cell_type": "markdown",
   "metadata": {},
   "source": [
    "Diese Überlegungen haben wir im Nachhinein noch einmal revidiert, wie man im weiteren Verlauf sehen kann."
   ]
  },
  {
   "cell_type": "markdown",
   "metadata": {},
   "source": [
    "## Daten zusammenfügen"
   ]
  },
  {
   "cell_type": "markdown",
   "metadata": {},
   "source": [
    "Wir haben uns überlegt, mit .join die Dataframes zusammenzufügen und dann so umzuformen, dass für jeden Studenten alle gesuchten Module zu sehen sind. Wir haben uns ja vorher überlegt, die Dataframes zusammenzufügen auf Grundlage der Uni und des Semesters, in dem sich die Student:innen gerade befinden. Wir haben unseren Datensatz für die Studenten aber so ergänzt, dass nach bis zu vier Modulen gesucht wird und dort die größte Überschneidung gesucht wird. <br>\n",
    "Wir fügen also jetzt auf Grundlage der Uni und des gesuchten Moduls zusammen."
   ]
  },
  {
   "cell_type": "code",
   "execution_count": 20,
   "metadata": {},
   "outputs": [],
   "source": [
    "data_joined = df2.join(df.set_index(['Uni','modul']), on=['Uni','modul'])"
   ]
  },
  {
   "cell_type": "code",
   "execution_count": 21,
   "metadata": {},
   "outputs": [
    {
     "name": "stdout",
     "output_type": "stream",
     "text": [
      "<class 'pandas.core.frame.DataFrame'>\n",
      "RangeIndex: 25 entries, 0 to 24\n",
      "Data columns (total 5 columns):\n",
      " #   Column    Non-Null Count  Dtype  \n",
      "---  ------    --------------  -----  \n",
      " 0   Name      25 non-null     object \n",
      " 1   Semester  25 non-null     int64  \n",
      " 2   Uni       25 non-null     object \n",
      " 3   modul     25 non-null     object \n",
      " 4   modul_id  24 non-null     float64\n",
      "dtypes: float64(1), int64(1), object(3)\n",
      "memory usage: 1.1+ KB\n"
     ]
    }
   ],
   "source": [
    "data_joined.info()"
   ]
  },
  {
   "cell_type": "code",
   "execution_count": 22,
   "metadata": {},
   "outputs": [
    {
     "data": {
      "text/html": [
       "<div>\n",
       "<style scoped>\n",
       "    .dataframe tbody tr th:only-of-type {\n",
       "        vertical-align: middle;\n",
       "    }\n",
       "\n",
       "    .dataframe tbody tr th {\n",
       "        vertical-align: top;\n",
       "    }\n",
       "\n",
       "    .dataframe thead th {\n",
       "        text-align: right;\n",
       "    }\n",
       "</style>\n",
       "<table border=\"1\" class=\"dataframe\">\n",
       "  <thead>\n",
       "    <tr style=\"text-align: right;\">\n",
       "      <th></th>\n",
       "      <th>Name</th>\n",
       "      <th>Semester</th>\n",
       "      <th>Uni</th>\n",
       "      <th>modul</th>\n",
       "      <th>modul_id</th>\n",
       "    </tr>\n",
       "  </thead>\n",
       "  <tbody>\n",
       "    <tr>\n",
       "      <th>0</th>\n",
       "      <td>Lisa Müller</td>\n",
       "      <td>4</td>\n",
       "      <td>Bayreuth</td>\n",
       "      <td>Handelsrecht</td>\n",
       "      <td>6.0</td>\n",
       "    </tr>\n",
       "    <tr>\n",
       "      <th>1</th>\n",
       "      <td>Lisa Müller</td>\n",
       "      <td>4</td>\n",
       "      <td>Bayreuth</td>\n",
       "      <td>Gesellschaftsrecht I</td>\n",
       "      <td>7.0</td>\n",
       "    </tr>\n",
       "    <tr>\n",
       "      <th>2</th>\n",
       "      <td>Lisa Müller</td>\n",
       "      <td>4</td>\n",
       "      <td>Bayreuth</td>\n",
       "      <td>Besonderes Verwaltungsrecht</td>\n",
       "      <td>105.0</td>\n",
       "    </tr>\n",
       "    <tr>\n",
       "      <th>3</th>\n",
       "      <td>Lisa Müller</td>\n",
       "      <td>4</td>\n",
       "      <td>Bayreuth</td>\n",
       "      <td>Strafprozessrecht</td>\n",
       "      <td>204.0</td>\n",
       "    </tr>\n",
       "    <tr>\n",
       "      <th>4</th>\n",
       "      <td>Lukas Justus</td>\n",
       "      <td>5</td>\n",
       "      <td>Bayreuth</td>\n",
       "      <td>Erbrecht</td>\n",
       "      <td>11.0</td>\n",
       "    </tr>\n",
       "  </tbody>\n",
       "</table>\n",
       "</div>"
      ],
      "text/plain": [
       "           Name  Semester       Uni                        modul  modul_id\n",
       "0   Lisa Müller         4  Bayreuth                 Handelsrecht       6.0\n",
       "1   Lisa Müller         4  Bayreuth         Gesellschaftsrecht I       7.0\n",
       "2   Lisa Müller         4  Bayreuth  Besonderes Verwaltungsrecht     105.0\n",
       "3   Lisa Müller         4  Bayreuth            Strafprozessrecht     204.0\n",
       "4  Lukas Justus         5  Bayreuth                     Erbrecht      11.0"
      ]
     },
     "execution_count": 22,
     "metadata": {},
     "output_type": "execute_result"
    }
   ],
   "source": [
    "data_joined.head()"
   ]
  },
  {
   "cell_type": "code",
   "execution_count": 23,
   "metadata": {},
   "outputs": [
    {
     "data": {
      "text/plain": [
       "Name        0\n",
       "Semester    0\n",
       "Uni         0\n",
       "modul       0\n",
       "modul_id    1\n",
       "dtype: int64"
      ]
     },
     "execution_count": 23,
     "metadata": {},
     "output_type": "execute_result"
    }
   ],
   "source": [
    "data_joined.isna().sum()"
   ]
  },
  {
   "cell_type": "markdown",
   "metadata": {},
   "source": [
    "Nachdem wir wie oben gesehen uns den neuen Dataframe ein wenig angesehen haben, haben wir beschlossen das eine Modul für den einen Studenten einfach zu löschen, da das für das was wir zeigen wollen nicht so sehr relevant ist."
   ]
  },
  {
   "cell_type": "code",
   "execution_count": 24,
   "metadata": {},
   "outputs": [],
   "source": [
    "data_joined = data_joined.dropna()"
   ]
  },
  {
   "cell_type": "code",
   "execution_count": 25,
   "metadata": {},
   "outputs": [
    {
     "name": "stdout",
     "output_type": "stream",
     "text": [
      "<class 'pandas.core.frame.DataFrame'>\n",
      "Int64Index: 24 entries, 0 to 24\n",
      "Data columns (total 5 columns):\n",
      " #   Column    Non-Null Count  Dtype  \n",
      "---  ------    --------------  -----  \n",
      " 0   Name      24 non-null     object \n",
      " 1   Semester  24 non-null     int64  \n",
      " 2   Uni       24 non-null     object \n",
      " 3   modul     24 non-null     object \n",
      " 4   modul_id  24 non-null     float64\n",
      "dtypes: float64(1), int64(1), object(3)\n",
      "memory usage: 1.1+ KB\n"
     ]
    }
   ],
   "source": [
    "data_joined.info()"
   ]
  },
  {
   "cell_type": "code",
   "execution_count": 26,
   "metadata": {},
   "outputs": [
    {
     "data": {
      "image/png": "[encoded data removed]",
      "text/plain": [
       "<Figure size 432x288 with 1 Axes>"
      ]
     },
     "metadata": {
      "needs_background": "light"
     },
     "output_type": "display_data"
    }
   ],
   "source": [
    "ax = sns.countplot(y=\"Name\", data=data_joined)"
   ]
  },
  {
   "cell_type": "markdown",
   "metadata": {},
   "source": [
    "In der obigen Abbildung kann man sehen in wievielen Fächern die einzelnen Studenten Hilfe benötigen. Man sieht, dass die meisten Studenten nur nach einem Modul suchen."
   ]
  },
  {
   "cell_type": "code",
   "execution_count": 27,
   "metadata": {},
   "outputs": [
    {
     "data": {
      "text/plain": [
       "Semester    1.916667\n",
       "modul_id    1.916667\n",
       "dtype: float64"
      ]
     },
     "execution_count": 27,
     "metadata": {},
     "output_type": "execute_result"
    }
   ],
   "source": [
    "data_joined.groupby('Name').rank().mean()"
   ]
  },
  {
   "cell_type": "markdown",
   "metadata": {},
   "source": [
    "Im Durchschnitt suchen die Studenten circa 1,9 Module."
   ]
  },
  {
   "cell_type": "code",
   "execution_count": 28,
   "metadata": {},
   "outputs": [
    {
     "data": {
      "image/png": "[encoded data removed]",
      "text/plain": [
       "<Figure size 432x288 with 1 Axes>"
      ]
     },
     "metadata": {
      "needs_background": "light"
     },
     "output_type": "display_data"
    }
   ],
   "source": [
    "ax = sns.countplot(y=\"modul_id\", data=data_joined)"
   ]
  },
  {
   "cell_type": "markdown",
   "metadata": {},
   "source": [
    "Die meistgesuchten Module sind BGB (modul_id = 1), Gesellschaftsrecht (modul_id = 7), Erbrecht (modul_id = 11). Man kann davon ausgehen, dass das die Module sind, bei denen die meisten Probleme auftreten. Bei uns sind das natürlich nur fiktive Daten."
   ]
  },
  {
   "cell_type": "markdown",
   "metadata": {},
   "source": [
    "## Daten modellieren"
   ]
  },
  {
   "cell_type": "markdown",
   "metadata": {},
   "source": [
    "Als nächstes haben wir uns überlegt die Daten so zu modellieren, dass wir die Studenten mit dem kmeans Algorithmus in verschiene Cluster, also Gruppen einordnen können. Innerhalb dieser Gruppe finden sich dann die potentiellen Lernpartner. Dieses Matching soll dann rein auf den gesuchten Modul IDs beruhen. Deashalb haben wir die Daten erstmal auf den Namen und die Modul ID begrenzt."
   ]
  },
  {
   "cell_type": "code",
   "execution_count": 29,
   "metadata": {},
   "outputs": [],
   "source": [
    "df_new = data_joined[['Name','modul_id']]"
   ]
  },
  {
   "cell_type": "markdown",
   "metadata": {},
   "source": [
    "Da wir mehrere Module pro Name haben, brauchten wir einen Rang, welcher die Spalten des modellierten Dataframes darstellen sollte und damit dann für jeden Namen alle vorhandenen Module anzeigt."
   ]
  },
  {
   "cell_type": "code",
   "execution_count": 30,
   "metadata": {},
   "outputs": [],
   "source": [
    "df_new['rank'] = df_new.groupby('Name').rank()"
   ]
  },
  {
   "cell_type": "markdown",
   "metadata": {},
   "source": [
    "Danach haben wir mit .pivot den DataFrame modelliert:"
   ]
  },
  {
   "cell_type": "code",
   "execution_count": 31,
   "metadata": {},
   "outputs": [],
   "source": [
    "df_pivot = df_new.pivot(index='Name',columns='rank',values='modul_id')"
   ]
  },
  {
   "cell_type": "code",
   "execution_count": 32,
   "metadata": {},
   "outputs": [
    {
     "data": {
      "text/html": [
       "<div>\n",
       "<style scoped>\n",
       "    .dataframe tbody tr th:only-of-type {\n",
       "        vertical-align: middle;\n",
       "    }\n",
       "\n",
       "    .dataframe tbody tr th {\n",
       "        vertical-align: top;\n",
       "    }\n",
       "\n",
       "    .dataframe thead th {\n",
       "        text-align: right;\n",
       "    }\n",
       "</style>\n",
       "<table border=\"1\" class=\"dataframe\">\n",
       "  <thead>\n",
       "    <tr style=\"text-align: right;\">\n",
       "      <th>rank</th>\n",
       "      <th>1.0</th>\n",
       "      <th>2.0</th>\n",
       "      <th>3.0</th>\n",
       "      <th>4.0</th>\n",
       "    </tr>\n",
       "    <tr>\n",
       "      <th>Name</th>\n",
       "      <th></th>\n",
       "      <th></th>\n",
       "      <th></th>\n",
       "      <th></th>\n",
       "    </tr>\n",
       "  </thead>\n",
       "  <tbody>\n",
       "    <tr>\n",
       "      <th>Anna Herzog</th>\n",
       "      <td>1.0</td>\n",
       "      <td>NaN</td>\n",
       "      <td>NaN</td>\n",
       "      <td>NaN</td>\n",
       "    </tr>\n",
       "    <tr>\n",
       "      <th>Dieter Schulz</th>\n",
       "      <td>4.0</td>\n",
       "      <td>6.0</td>\n",
       "      <td>105.0</td>\n",
       "      <td>204.0</td>\n",
       "    </tr>\n",
       "    <tr>\n",
       "      <th>Dorothe Doll</th>\n",
       "      <td>1.0</td>\n",
       "      <td>NaN</td>\n",
       "      <td>NaN</td>\n",
       "      <td>NaN</td>\n",
       "    </tr>\n",
       "    <tr>\n",
       "      <th>Hans Wurst</th>\n",
       "      <td>1.0</td>\n",
       "      <td>NaN</td>\n",
       "      <td>NaN</td>\n",
       "      <td>NaN</td>\n",
       "    </tr>\n",
       "    <tr>\n",
       "      <th>Lena Gärtner</th>\n",
       "      <td>6.0</td>\n",
       "      <td>NaN</td>\n",
       "      <td>NaN</td>\n",
       "      <td>NaN</td>\n",
       "    </tr>\n",
       "    <tr>\n",
       "      <th>Lisa Müller</th>\n",
       "      <td>6.0</td>\n",
       "      <td>7.0</td>\n",
       "      <td>105.0</td>\n",
       "      <td>204.0</td>\n",
       "    </tr>\n",
       "    <tr>\n",
       "      <th>Lukas Justus</th>\n",
       "      <td>11.0</td>\n",
       "      <td>NaN</td>\n",
       "      <td>NaN</td>\n",
       "      <td>NaN</td>\n",
       "    </tr>\n",
       "    <tr>\n",
       "      <th>Maraike Metzger</th>\n",
       "      <td>1.0</td>\n",
       "      <td>NaN</td>\n",
       "      <td>NaN</td>\n",
       "      <td>NaN</td>\n",
       "    </tr>\n",
       "    <tr>\n",
       "      <th>Markus Meier</th>\n",
       "      <td>4.0</td>\n",
       "      <td>NaN</td>\n",
       "      <td>NaN</td>\n",
       "      <td>NaN</td>\n",
       "    </tr>\n",
       "    <tr>\n",
       "      <th>Peter Bäcker</th>\n",
       "      <td>7.0</td>\n",
       "      <td>11.0</td>\n",
       "      <td>NaN</td>\n",
       "      <td>NaN</td>\n",
       "    </tr>\n",
       "    <tr>\n",
       "      <th>Sara Schmidt</th>\n",
       "      <td>7.0</td>\n",
       "      <td>11.0</td>\n",
       "      <td>106.0</td>\n",
       "      <td>NaN</td>\n",
       "    </tr>\n",
       "    <tr>\n",
       "      <th>Sonja Meier</th>\n",
       "      <td>7.0</td>\n",
       "      <td>11.0</td>\n",
       "      <td>104.0</td>\n",
       "      <td>105.0</td>\n",
       "    </tr>\n",
       "  </tbody>\n",
       "</table>\n",
       "</div>"
      ],
      "text/plain": [
       "rank              1.0   2.0    3.0    4.0\n",
       "Name                                     \n",
       "Anna Herzog       1.0   NaN    NaN    NaN\n",
       "Dieter Schulz     4.0   6.0  105.0  204.0\n",
       "Dorothe Doll      1.0   NaN    NaN    NaN\n",
       "Hans Wurst        1.0   NaN    NaN    NaN\n",
       "Lena Gärtner      6.0   NaN    NaN    NaN\n",
       "Lisa Müller       6.0   7.0  105.0  204.0\n",
       "Lukas Justus     11.0   NaN    NaN    NaN\n",
       "Maraike Metzger   1.0   NaN    NaN    NaN\n",
       "Markus Meier      4.0   NaN    NaN    NaN\n",
       "Peter Bäcker      7.0  11.0    NaN    NaN\n",
       "Sara Schmidt      7.0  11.0  106.0    NaN\n",
       "Sonja Meier       7.0  11.0  104.0  105.0"
      ]
     },
     "execution_count": 32,
     "metadata": {},
     "output_type": "execute_result"
    }
   ],
   "source": [
    "df_pivot"
   ]
  },
  {
   "cell_type": "markdown",
   "metadata": {},
   "source": [
    "Da kmeans nicht mit NaN Werten arbeiten kann, haben wir uns überlegt, welche Werte wir dafür einsetzen können. Da man auf jeden Fall die Unterscheidung zuwischen mehrere Module ausgewählt und nur eins ausgewählt, haben wir uns erst überlegt, dass man besonders hohe Werte nehmen könnte."
   ]
  },
  {
   "cell_type": "code",
   "execution_count": 33,
   "metadata": {},
   "outputs": [],
   "source": [
    "df_pivot = df_pivot.fillna(-20)"
   ]
  },
  {
   "cell_type": "markdown",
   "metadata": {},
   "source": [
    "## Matching"
   ]
  },
  {
   "cell_type": "markdown",
   "metadata": {},
   "source": [
    "Als nächstes haben wir damit begonnen die Daten mit kmeans zu clustern, um die Ähnlichkeiten herauszufinden. Hier haben wir ein bisschen mit der Anzahl der Cluster variiert, um zu beurteilen, welche Anzahl das beste Matching bewirkt. Die Variable random_state musste gesetzt werden, um dem Algorithmus sozusagen einen Ausgangspunkt zu geben. Wir haben hier eine beliebige Zahl genommen."
   ]
  },
  {
   "cell_type": "code",
   "execution_count": 34,
   "metadata": {},
   "outputs": [],
   "source": [
    "kmeans = KMeans(n_clusters=5, random_state=42)"
   ]
  },
  {
   "cell_type": "code",
   "execution_count": 35,
   "metadata": {},
   "outputs": [],
   "source": [
    "df_pivot['cluster'] = kmeans.fit_predict(df_pivot)"
   ]
  },
  {
   "cell_type": "code",
   "execution_count": 36,
   "metadata": {},
   "outputs": [
    {
     "data": {
      "text/plain": [
       "Name\n",
       "Anna Herzog        1\n",
       "Dieter Schulz      2\n",
       "Dorothe Doll       1\n",
       "Hans Wurst         1\n",
       "Lena Gärtner       1\n",
       "Lisa Müller        2\n",
       "Lukas Justus       1\n",
       "Maraike Metzger    1\n",
       "Markus Meier       1\n",
       "Peter Bäcker       4\n",
       "Sara Schmidt       3\n",
       "Sonja Meier        0\n",
       "Name: cluster, dtype: int32"
      ]
     },
     "execution_count": 36,
     "metadata": {},
     "output_type": "execute_result"
    }
   ],
   "source": [
    "df_pivot['cluster']"
   ]
  },
  {
   "cell_type": "code",
   "execution_count": 37,
   "metadata": {},
   "outputs": [],
   "source": [
    "centroids = kmeans.cluster_centers_"
   ]
  },
  {
   "cell_type": "markdown",
   "metadata": {},
   "source": [
    "Das Ergebnis war leider nicht sehr zufriedenstellend: <br>\n",
    "Die letzten 3 Personen wurden fast immer in ein eigenes Cluster, wo nur der eine Wert drin war eingeordnet. Was man daran erkennen kann, ist dass Peter Bäcker der Einzige mit zwei gewählten Modulen und Sara Schmidt die Einzige mit 3 ausgewählten Modulen ist. <br>\n",
    "Sonja Meier ist zwar nicht die Einzige mit 4 Modulen, aber zwischen den Modul IDs der anderen Studenten mit 4 Modulen besteht ein großer Unterschied. <br>\n",
    "Außerdem sind  alle Studenten, die nur ein Modul suchen in einem Cluster."
   ]
  },
  {
   "cell_type": "markdown",
   "metadata": {},
   "source": [
    "Der Algorithmus ist also alleine noch nicht in der Lage ein vernünftiges Matching zu erstellen, man erkennt aber, dass zumindest erkannt wird, wieviele Module gesucht werden. Vielleicht würde es bei einem größeren Datensatz besser funktionieren und eventuell ist es nötig die einzelnen Cluster noch weiter zu filtern. Bei einem größeren Datesatz kann man dann auch noch die Credits und Semesterwochenstunden hierfür verwenden."
   ]
  },
  {
   "cell_type": "markdown",
   "metadata": {},
   "source": [
    "## Visualisierung und Reflektion"
   ]
  },
  {
   "cell_type": "markdown",
   "metadata": {},
   "source": [
    "Trotz des Ergebnisses haben wir die Cluster hier noch einmal visualisiert:"
   ]
  },
  {
   "cell_type": "code",
   "execution_count": 38,
   "metadata": {},
   "outputs": [
    {
     "data": {
      "text/plain": [
       "<matplotlib.collections.PathCollection at 0x1df7742e190>"
      ]
     },
     "execution_count": 38,
     "metadata": {},
     "output_type": "execute_result"
    },
    {
     "data": {
      "image/png": "[encoded data removed]",
      "text/plain": [
       "<Figure size 432x288 with 1 Axes>"
      ]
     },
     "metadata": {
      "needs_background": "light"
     },
     "output_type": "display_data"
    }
   ],
   "source": [
    "cen_x = [i[0] for i in centroids] \n",
    "cen_y = [i[1] for i in centroids]\n",
    "## add to df\n",
    "df_pivot['cen_x'] = df_pivot.cluster.map({0:cen_x[0], 1:cen_x[1], 2:cen_x[2]})\n",
    "df_pivot['cen_y'] = df_pivot.cluster.map({0:cen_y[0], 1:cen_y[1], 2:cen_y[2]})\n",
    "# define and map colors\n",
    "colors = ['black', 'green', 'red', 'black', 'yellow', 'pink']\n",
    "df_pivot['c'] = df_pivot.cluster.map({0:colors[0], 1:colors[1], 2:colors[2], 3:colors[3], 4:colors[4], 5:colors[5]})\n",
    "plt.scatter(df_pivot.cluster, df_pivot.index, c=df_pivot.c, alpha = 1, s=50)"
   ]
  },
  {
   "cell_type": "markdown",
   "metadata": {},
   "source": [
    "Man kann auch hier wieder gut sehen, dass die meisten Studenten in Cluster 1 sortiert wurden, da sie alle nur ein Modul gesucht haben. Diese Studenten könnte man, beim Weiterentwickeln des Matching Prozesses auch noch Matchen, um so ein besseres Ergebnis zu erhalten."
   ]
  },
  {
   "cell_type": "markdown",
   "metadata": {},
   "source": [
    "Generell müssen wir uns aber fragen, ob kmeans der richtige Algorithmus ist, um unsere Studenten zu matchen oder ob man nicht noch andere Möglichkeiten in Betracht ziehen muss. Wir sind zu dem Schluss gekommen, dass zumindest bei großen Datenmengen kmeans gut zu einer ersten Einsortierung geeignet ist, man aber danach noch weiter Filtern muss, um auch wirklich Paare zu finden. <br>\n",
    "Eventuell muss man auch bei der Vergabe der Modul ID auch noch mehr Faktoren mit einbeziehen. Hierbei denken wir daran ähnliche Themenbereiche mit IDs zu versehen, die sich auch von den Zahlen her ähneln, damit der ALgorithmus auch die Ähnlichkeit erkennt."
   ]
  },
  {
   "cell_type": "code",
   "execution_count": null,
   "metadata": {},
   "outputs": [],
   "source": []
  }
 ],
 "metadata": {
  "kernelspec": {
   "display_name": "Python 3",
   "language": "python",
   "name": "python3"
  },
  "language_info": {
   "codemirror_mode": {
    "name": "ipython",
    "version": 3
   },
   "file_extension": ".py",
   "mimetype": "text/x-python",
   "name": "python",
   "nbconvert_exporter": "python",
   "pygments_lexer": "ipython3",
   "version": "3.8.3"
  }
 },
 "nbformat": 4,
 "nbformat_minor": 4
}

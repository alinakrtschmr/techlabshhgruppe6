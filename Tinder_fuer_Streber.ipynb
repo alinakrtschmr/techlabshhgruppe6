{
 "cells": [
  {
   "cell_type": "markdown",
   "metadata": {},
   "source": [
    "# Import"
   ]
  },
  {
   "cell_type": "markdown",
   "metadata": {},
   "source": [
    "Erstmal werde alle Funktionen importiert"
   ]
  },
  {
   "cell_type": "code",
   "execution_count": 1,
   "metadata": {},
   "outputs": [],
   "source": [
    "import numpy as np\n",
    "import pandas as pd\n",
    "import seaborn as sns\n",
    "import matplotlib.pyplot as plt\n",
    "plt.style.use('fivethirtyeight')\n",
    "import warnings\n",
    "warnings.filterwarnings('ignore')\n",
    "%matplotlib inline\n",
    "from sklearn.cluster import KMeans"
   ]
  },
  {
   "cell_type": "markdown",
   "metadata": {},
   "source": [
    "# Tinder für Streber"
   ]
  },
  {
   "cell_type": "markdown",
   "metadata": {},
   "source": [
    "## Importieren der Daten"
   ]
  },
  {
   "cell_type": "markdown",
   "metadata": {},
   "source": [
    "Das sind die Daten der Unis:"
   ]
  },
  {
   "cell_type": "code",
   "execution_count": 2,
   "metadata": {},
   "outputs": [],
   "source": [
    "file_path = 'DatenStudymatch.csv'"
   ]
  },
  {
   "cell_type": "code",
   "execution_count": 3,
   "metadata": {},
   "outputs": [],
   "source": [
    "df = pd.read_csv(file_path)"
   ]
  },
  {
   "cell_type": "code",
   "execution_count": 4,
   "metadata": {},
   "outputs": [
    {
     "name": "stdout",
     "output_type": "stream",
     "text": [
      "<class 'pandas.core.frame.DataFrame'>\n",
      "RangeIndex: 114 entries, 0 to 113\n",
      "Data columns (total 7 columns):\n",
      " #   Column    Non-Null Count  Dtype  \n",
      "---  ------    --------------  -----  \n",
      " 0   semester  114 non-null    int64  \n",
      " 1   modul     114 non-null    object \n",
      " 2   modul_id  106 non-null    float64\n",
      " 3   Credits   0 non-null      float64\n",
      " 4   SWS       84 non-null     object \n",
      " 5   Uni       114 non-null    object \n",
      " 6   uni_id    114 non-null    int64  \n",
      "dtypes: float64(2), int64(2), object(3)\n",
      "memory usage: 6.4+ KB\n"
     ]
    }
   ],
   "source": [
    "df.info()"
   ]
  },
  {
   "cell_type": "code",
   "execution_count": 5,
   "metadata": {},
   "outputs": [
    {
     "data": {
      "text/html": [
       "<div>\n",
       "<style scoped>\n",
       "    .dataframe tbody tr th:only-of-type {\n",
       "        vertical-align: middle;\n",
       "    }\n",
       "\n",
       "    .dataframe tbody tr th {\n",
       "        vertical-align: top;\n",
       "    }\n",
       "\n",
       "    .dataframe thead th {\n",
       "        text-align: right;\n",
       "    }\n",
       "</style>\n",
       "<table border=\"1\" class=\"dataframe\">\n",
       "  <thead>\n",
       "    <tr style=\"text-align: right;\">\n",
       "      <th></th>\n",
       "      <th>semester</th>\n",
       "      <th>modul</th>\n",
       "      <th>modul_id</th>\n",
       "      <th>Credits</th>\n",
       "      <th>SWS</th>\n",
       "      <th>Uni</th>\n",
       "      <th>uni_id</th>\n",
       "    </tr>\n",
       "  </thead>\n",
       "  <tbody>\n",
       "    <tr>\n",
       "      <th>0</th>\n",
       "      <td>1</td>\n",
       "      <td>bgb_at</td>\n",
       "      <td>1.0</td>\n",
       "      <td>NaN</td>\n",
       "      <td>4</td>\n",
       "      <td>Bayreuth</td>\n",
       "      <td>3</td>\n",
       "    </tr>\n",
       "    <tr>\n",
       "      <th>1</th>\n",
       "      <td>1</td>\n",
       "      <td>Staatsorganisationsrecht</td>\n",
       "      <td>101.0</td>\n",
       "      <td>NaN</td>\n",
       "      <td>4</td>\n",
       "      <td>Bayreuth</td>\n",
       "      <td>3</td>\n",
       "    </tr>\n",
       "    <tr>\n",
       "      <th>2</th>\n",
       "      <td>1</td>\n",
       "      <td>strafrecht_1</td>\n",
       "      <td>201.0</td>\n",
       "      <td>NaN</td>\n",
       "      <td>4</td>\n",
       "      <td>Bayreuth</td>\n",
       "      <td>3</td>\n",
       "    </tr>\n",
       "    <tr>\n",
       "      <th>3</th>\n",
       "      <td>1</td>\n",
       "      <td>Bausteine des Rechts</td>\n",
       "      <td>301.0</td>\n",
       "      <td>NaN</td>\n",
       "      <td>2</td>\n",
       "      <td>Bayreuth</td>\n",
       "      <td>3</td>\n",
       "    </tr>\n",
       "    <tr>\n",
       "      <th>4</th>\n",
       "      <td>1</td>\n",
       "      <td>BWL Einführung</td>\n",
       "      <td>302.0</td>\n",
       "      <td>NaN</td>\n",
       "      <td>2</td>\n",
       "      <td>Bayreuth</td>\n",
       "      <td>3</td>\n",
       "    </tr>\n",
       "  </tbody>\n",
       "</table>\n",
       "</div>"
      ],
      "text/plain": [
       "   semester                     modul  modul_id  Credits SWS       Uni  uni_id\n",
       "0         1                    bgb_at       1.0      NaN   4  Bayreuth       3\n",
       "1         1  Staatsorganisationsrecht     101.0      NaN   4  Bayreuth       3\n",
       "2         1              strafrecht_1     201.0      NaN   4  Bayreuth       3\n",
       "3         1      Bausteine des Rechts     301.0      NaN   2  Bayreuth       3\n",
       "4         1            BWL Einführung     302.0      NaN   2  Bayreuth       3"
      ]
     },
     "execution_count": 5,
     "metadata": {},
     "output_type": "execute_result"
    }
   ],
   "source": [
    "df.head()"
   ]
  },
  {
   "cell_type": "markdown",
   "metadata": {},
   "source": [
    "Das sind die Daten für die Studenten:"
   ]
  },
  {
   "cell_type": "code",
   "execution_count": 6,
   "metadata": {},
   "outputs": [],
   "source": [
    "file_path2 = 'Studenten.csv'"
   ]
  },
  {
   "cell_type": "code",
   "execution_count": 7,
   "metadata": {},
   "outputs": [],
   "source": [
    "df2 = pd.read_csv(file_path2)"
   ]
  },
  {
   "cell_type": "code",
   "execution_count": 8,
   "metadata": {},
   "outputs": [
    {
     "data": {
      "text/html": [
       "<div>\n",
       "<style scoped>\n",
       "    .dataframe tbody tr th:only-of-type {\n",
       "        vertical-align: middle;\n",
       "    }\n",
       "\n",
       "    .dataframe tbody tr th {\n",
       "        vertical-align: top;\n",
       "    }\n",
       "\n",
       "    .dataframe thead th {\n",
       "        text-align: right;\n",
       "    }\n",
       "</style>\n",
       "<table border=\"1\" class=\"dataframe\">\n",
       "  <thead>\n",
       "    <tr style=\"text-align: right;\">\n",
       "      <th></th>\n",
       "      <th>Name</th>\n",
       "      <th>Semester</th>\n",
       "      <th>Uni</th>\n",
       "      <th>Auswahl</th>\n",
       "    </tr>\n",
       "  </thead>\n",
       "  <tbody>\n",
       "    <tr>\n",
       "      <th>0</th>\n",
       "      <td>Lisa Müller</td>\n",
       "      <td>4</td>\n",
       "      <td>Bayreuth</td>\n",
       "      <td>Handelsrecht</td>\n",
       "    </tr>\n",
       "    <tr>\n",
       "      <th>1</th>\n",
       "      <td>Lisa Müller</td>\n",
       "      <td>4</td>\n",
       "      <td>Bayreuth</td>\n",
       "      <td>Gesellschaftsrecht I</td>\n",
       "    </tr>\n",
       "    <tr>\n",
       "      <th>2</th>\n",
       "      <td>Lisa Müller</td>\n",
       "      <td>4</td>\n",
       "      <td>Bayreuth</td>\n",
       "      <td>Besonderes Verwaltungsrecht</td>\n",
       "    </tr>\n",
       "    <tr>\n",
       "      <th>3</th>\n",
       "      <td>Lisa Müller</td>\n",
       "      <td>4</td>\n",
       "      <td>Bayreuth</td>\n",
       "      <td>Strafprozessrecht</td>\n",
       "    </tr>\n",
       "    <tr>\n",
       "      <th>4</th>\n",
       "      <td>Lukas Justus</td>\n",
       "      <td>5</td>\n",
       "      <td>Bayreuth</td>\n",
       "      <td>Erbrecht</td>\n",
       "    </tr>\n",
       "  </tbody>\n",
       "</table>\n",
       "</div>"
      ],
      "text/plain": [
       "           Name  Semester       Uni                      Auswahl\n",
       "0   Lisa Müller         4  Bayreuth                 Handelsrecht\n",
       "1   Lisa Müller         4  Bayreuth         Gesellschaftsrecht I\n",
       "2   Lisa Müller         4  Bayreuth  Besonderes Verwaltungsrecht\n",
       "3   Lisa Müller         4  Bayreuth            Strafprozessrecht\n",
       "4  Lukas Justus         5  Bayreuth                     Erbrecht"
      ]
     },
     "execution_count": 8,
     "metadata": {},
     "output_type": "execute_result"
    }
   ],
   "source": [
    "df2.head()"
   ]
  },
  {
   "cell_type": "markdown",
   "metadata": {},
   "source": [
    "## Bereinigen der Daten"
   ]
  },
  {
   "cell_type": "markdown",
   "metadata": {},
   "source": [
    "Wir haben uns überlegt, dass man die Credits, SWS und die Uni Id erstmal gar nicht braucht"
   ]
  },
  {
   "cell_type": "code",
   "execution_count": 9,
   "metadata": {},
   "outputs": [],
   "source": [
    "data = df.drop(['Credits','SWS','uni_id'], axis=1)"
   ]
  },
  {
   "cell_type": "markdown",
   "metadata": {},
   "source": [
    "Wir haben beschlossen, dass es nicht sehr viele fehlende Werte gibt und die Zeilen einfach gelöscht."
   ]
  },
  {
   "cell_type": "code",
   "execution_count": 10,
   "metadata": {},
   "outputs": [],
   "source": [
    "data = data.dropna()"
   ]
  },
  {
   "cell_type": "markdown",
   "metadata": {},
   "source": [
    "Da bei den Studenten Daten Semester groß geschrieben wird, musste das bei den Uni Daten auch so sein."
   ]
  },
  {
   "cell_type": "code",
   "execution_count": 11,
   "metadata": {},
   "outputs": [],
   "source": [
    "data.rename(columns={'semester':'Semester'}, inplace=True)"
   ]
  },
  {
   "cell_type": "markdown",
   "metadata": {},
   "source": [
    "Im Nachhinein haben wir dann festgestellt, dass wir das Zusammenfügern der Daten nicht über das Semester machen wollen, da man ja auch etwas ein Semester später haben kann. Wir löschen also das Semester aus den Unidaten, da uns nur interessiert, in welchem Semester der Student gerade ist."
   ]
  },
  {
   "cell_type": "code",
   "execution_count": 12,
   "metadata": {},
   "outputs": [],
   "source": [
    "df = data.drop('Semester', axis=1)"
   ]
  },
  {
   "cell_type": "code",
   "execution_count": 13,
   "metadata": {},
   "outputs": [
    {
     "name": "stdout",
     "output_type": "stream",
     "text": [
      "<class 'pandas.core.frame.DataFrame'>\n",
      "Int64Index: 106 entries, 0 to 112\n",
      "Data columns (total 4 columns):\n",
      " #   Column    Non-Null Count  Dtype  \n",
      "---  ------    --------------  -----  \n",
      " 0   Semester  106 non-null    int64  \n",
      " 1   modul     106 non-null    object \n",
      " 2   modul_id  106 non-null    float64\n",
      " 3   Uni       106 non-null    object \n",
      "dtypes: float64(1), int64(1), object(2)\n",
      "memory usage: 4.1+ KB\n"
     ]
    }
   ],
   "source": [
    "data.info()"
   ]
  },
  {
   "cell_type": "markdown",
   "metadata": {},
   "source": [
    "Daten der Studenten:"
   ]
  },
  {
   "cell_type": "code",
   "execution_count": 14,
   "metadata": {},
   "outputs": [],
   "source": [
    "df2.rename(columns={'Auswahl':'modul'}, inplace=True)"
   ]
  },
  {
   "cell_type": "markdown",
   "metadata": {},
   "source": [
    "## Erste Versuche der Datenverarbeitung"
   ]
  },
  {
   "cell_type": "markdown",
   "metadata": {},
   "source": [
    "Hier haben wir uns erst überlegt die Daten in drei Dataframes, für jede Uni einen, aufzuteilen. Wri haben aber festgestellt, dass das gar nicht nötig ist."
   ]
  },
  {
   "cell_type": "code",
   "execution_count": 15,
   "metadata": {},
   "outputs": [],
   "source": [
    "#for uni in data['Uni']:\n",
    "#    data['Uni'] == 'Bayreuth'\n",
    "    "
   ]
  },
  {
   "cell_type": "markdown",
   "metadata": {},
   "source": [
    "Wir haben uns folgende Schritte überlegt, um erstmal für ein konkretes Modul herauszufinden, an welcher Uni das in welchem Semester angeboten wird:\n",
    "- Modul eingeben\n",
    "- Modul wird ID zugeordnet \n",
    "- ID wird in den Daten gesucht \n",
    "- DataFrame wird gefiltert - Unis + Semester etc werden andezeigt (mit gleicher Modul_Id) \n"
   ]
  },
  {
   "cell_type": "markdown",
   "metadata": {},
   "source": [
    "Hier haben wir erstmal die Daten nach dem Modul Allgemeines Schuldrecht gefiltert und dessen Modul ID herausgefunden (2). <br>\n",
    "Problem: Wir haben als Output einen DataFrame, wollen aber eigentlich nur die Zahl."
   ]
  },
  {
   "cell_type": "code",
   "execution_count": 16,
   "metadata": {},
   "outputs": [
    {
     "data": {
      "text/html": [
       "<div>\n",
       "<style scoped>\n",
       "    .dataframe tbody tr th:only-of-type {\n",
       "        vertical-align: middle;\n",
       "    }\n",
       "\n",
       "    .dataframe tbody tr th {\n",
       "        vertical-align: top;\n",
       "    }\n",
       "\n",
       "    .dataframe thead th {\n",
       "        text-align: right;\n",
       "    }\n",
       "</style>\n",
       "<table border=\"1\" class=\"dataframe\">\n",
       "  <thead>\n",
       "    <tr style=\"text-align: right;\">\n",
       "      <th></th>\n",
       "      <th>Semester</th>\n",
       "      <th>modul</th>\n",
       "      <th>modul_id</th>\n",
       "      <th>Uni</th>\n",
       "    </tr>\n",
       "  </thead>\n",
       "  <tbody>\n",
       "    <tr>\n",
       "      <th>2</th>\n",
       "      <td>1</td>\n",
       "      <td>strafrecht_1</td>\n",
       "      <td>201.0</td>\n",
       "      <td>Bayreuth</td>\n",
       "    </tr>\n",
       "  </tbody>\n",
       "</table>\n",
       "</div>"
      ],
      "text/plain": [
       "   Semester         modul  modul_id       Uni\n",
       "2         1  strafrecht_1     201.0  Bayreuth"
      ]
     },
     "execution_count": 16,
     "metadata": {},
     "output_type": "execute_result"
    }
   ],
   "source": [
    "modul = data[data['modul']=='strafrecht_1']\n",
    "modul.head()\n",
    "#modul_id = modul['modul_id']\n",
    "#print(modul_id)"
   ]
  },
  {
   "cell_type": "markdown",
   "metadata": {},
   "source": [
    "Wir haben dann überlegt, ob man das durch eie Schleife lösen könnte, sind da aber auch nicht wirklich weitergekommen."
   ]
  },
  {
   "cell_type": "code",
   "execution_count": 17,
   "metadata": {},
   "outputs": [],
   "source": [
    "for modul_id in modul['modul_id']: \n",
    "    data[data['modul_id']==modul_id]\n",
    "    #print(data)"
   ]
  },
  {
   "cell_type": "markdown",
   "metadata": {},
   "source": [
    "Hier sind wir dann nicht weitergekommen, weil wir nicht genau wussten wo das Problem liegt. Es könnte an der Problematik von Oben (Dataframe statt Integer) oder daran liegen, dasss wir 2,0 statt 2 haben."
   ]
  },
  {
   "cell_type": "code",
   "execution_count": 18,
   "metadata": {},
   "outputs": [
    {
     "data": {
      "text/html": [
       "<div>\n",
       "<style scoped>\n",
       "    .dataframe tbody tr th:only-of-type {\n",
       "        vertical-align: middle;\n",
       "    }\n",
       "\n",
       "    .dataframe tbody tr th {\n",
       "        vertical-align: top;\n",
       "    }\n",
       "\n",
       "    .dataframe thead th {\n",
       "        text-align: right;\n",
       "    }\n",
       "</style>\n",
       "<table border=\"1\" class=\"dataframe\">\n",
       "  <thead>\n",
       "    <tr style=\"text-align: right;\">\n",
       "      <th></th>\n",
       "      <th>Semester</th>\n",
       "      <th>modul</th>\n",
       "      <th>modul_id</th>\n",
       "      <th>Uni</th>\n",
       "    </tr>\n",
       "  </thead>\n",
       "  <tbody>\n",
       "    <tr>\n",
       "      <th>2</th>\n",
       "      <td>1</td>\n",
       "      <td>strafrecht_1</td>\n",
       "      <td>201.0</td>\n",
       "      <td>Bayreuth</td>\n",
       "    </tr>\n",
       "    <tr>\n",
       "      <th>38</th>\n",
       "      <td>1</td>\n",
       "      <td>Grundkurs Strafrecht I</td>\n",
       "      <td>201.0</td>\n",
       "      <td>Heidelberg</td>\n",
       "    </tr>\n",
       "    <tr>\n",
       "      <th>86</th>\n",
       "      <td>1</td>\n",
       "      <td>Strafrecht 1</td>\n",
       "      <td>201.0</td>\n",
       "      <td>Münster</td>\n",
       "    </tr>\n",
       "  </tbody>\n",
       "</table>\n",
       "</div>"
      ],
      "text/plain": [
       "    Semester                   modul  modul_id         Uni\n",
       "2          1            strafrecht_1     201.0    Bayreuth\n",
       "38         1  Grundkurs Strafrecht I     201.0  Heidelberg\n",
       "86         1            Strafrecht 1     201.0     Münster"
      ]
     },
     "execution_count": 18,
     "metadata": {},
     "output_type": "execute_result"
    }
   ],
   "source": [
    "data[data['modul_id']==modul_id]"
   ]
  },
  {
   "cell_type": "markdown",
   "metadata": {},
   "source": [
    "### Überlegungen 08.03"
   ]
  },
  {
   "cell_type": "markdown",
   "metadata": {},
   "source": [
    "- Daten zusammenfügen mit .join, wie in Tabellenblatt8 zu sehen\n",
    "- Das wird dann eine sehr große Tabelle mit den Personen, bei denen anhand der Uni und dem Semester Zeilen hinzugefügt werden\n",
    "- Dann muss man die Daten so umwandeln, dass da nur noch die bereits gemachten Module stehen (Da das Matching über das Semester läuft, müssen wir uns noch überlegen, wie wir die vorherigen Semester auch hinzufügen - sowas wie 1 bis x(=mein Semester)\n",
    "- In der Tabelle sind dann alle Module (bzw. die IDs), die die Person bis dahin schon gemacht hat drin.\n",
    "- Durch die Anzahl der Module ist dann auch klar welches Semester und welche Uni gemeint ist, da die Module davon abhängig sind, wir müssen also das beim Matchen nicht beachten.\n",
    "-  \n",
    "- Dann wendet man eine Methode darauf an, bei der man quasi eine bestimmte Person (nicht in dem Datensatz) mit den bestehenden Personen matcht, indem geguckt wird wieviele Module sich überschneiden.\n",
    "-  \n",
    "- Wir matchen jetzt welche Person insgesamt am besten passt, also zum generell gemeinsam lernen und nicht nach einem bestimmten Fach!"
   ]
  },
  {
   "cell_type": "markdown",
   "metadata": {},
   "source": [
    "## Daten zusammenfügen"
   ]
  },
  {
   "cell_type": "markdown",
   "metadata": {},
   "source": [
    "Wir haben uns überlegt, mit .join die Dataframes zusammenzufügen und dann so umzuformen, dass für jeden Studenten alle bereits bestandenen Module zu sehen sind."
   ]
  },
  {
   "cell_type": "code",
   "execution_count": 19,
   "metadata": {},
   "outputs": [],
   "source": [
    "data_joined = df2.join(df.set_index(['Uni','modul']), on=['Uni','modul'])"
   ]
  },
  {
   "cell_type": "code",
   "execution_count": 20,
   "metadata": {},
   "outputs": [
    {
     "name": "stdout",
     "output_type": "stream",
     "text": [
      "<class 'pandas.core.frame.DataFrame'>\n",
      "RangeIndex: 25 entries, 0 to 24\n",
      "Data columns (total 5 columns):\n",
      " #   Column    Non-Null Count  Dtype  \n",
      "---  ------    --------------  -----  \n",
      " 0   Name      25 non-null     object \n",
      " 1   Semester  25 non-null     int64  \n",
      " 2   Uni       25 non-null     object \n",
      " 3   modul     25 non-null     object \n",
      " 4   modul_id  19 non-null     float64\n",
      "dtypes: float64(1), int64(1), object(3)\n",
      "memory usage: 1.1+ KB\n"
     ]
    }
   ],
   "source": [
    "data_joined.info()"
   ]
  },
  {
   "cell_type": "code",
   "execution_count": 21,
   "metadata": {},
   "outputs": [
    {
     "data": {
      "text/html": [
       "<div>\n",
       "<style scoped>\n",
       "    .dataframe tbody tr th:only-of-type {\n",
       "        vertical-align: middle;\n",
       "    }\n",
       "\n",
       "    .dataframe tbody tr th {\n",
       "        vertical-align: top;\n",
       "    }\n",
       "\n",
       "    .dataframe thead th {\n",
       "        text-align: right;\n",
       "    }\n",
       "</style>\n",
       "<table border=\"1\" class=\"dataframe\">\n",
       "  <thead>\n",
       "    <tr style=\"text-align: right;\">\n",
       "      <th></th>\n",
       "      <th>Name</th>\n",
       "      <th>Semester</th>\n",
       "      <th>Uni</th>\n",
       "      <th>modul</th>\n",
       "      <th>modul_id</th>\n",
       "    </tr>\n",
       "  </thead>\n",
       "  <tbody>\n",
       "    <tr>\n",
       "      <th>0</th>\n",
       "      <td>Lisa Müller</td>\n",
       "      <td>4</td>\n",
       "      <td>Bayreuth</td>\n",
       "      <td>Handelsrecht</td>\n",
       "      <td>6.0</td>\n",
       "    </tr>\n",
       "    <tr>\n",
       "      <th>1</th>\n",
       "      <td>Lisa Müller</td>\n",
       "      <td>4</td>\n",
       "      <td>Bayreuth</td>\n",
       "      <td>Gesellschaftsrecht I</td>\n",
       "      <td>7.0</td>\n",
       "    </tr>\n",
       "    <tr>\n",
       "      <th>2</th>\n",
       "      <td>Lisa Müller</td>\n",
       "      <td>4</td>\n",
       "      <td>Bayreuth</td>\n",
       "      <td>Besonderes Verwaltungsrecht</td>\n",
       "      <td>105.0</td>\n",
       "    </tr>\n",
       "    <tr>\n",
       "      <th>3</th>\n",
       "      <td>Lisa Müller</td>\n",
       "      <td>4</td>\n",
       "      <td>Bayreuth</td>\n",
       "      <td>Strafprozessrecht</td>\n",
       "      <td>204.0</td>\n",
       "    </tr>\n",
       "    <tr>\n",
       "      <th>4</th>\n",
       "      <td>Lukas Justus</td>\n",
       "      <td>5</td>\n",
       "      <td>Bayreuth</td>\n",
       "      <td>Erbrecht</td>\n",
       "      <td>11.0</td>\n",
       "    </tr>\n",
       "    <tr>\n",
       "      <th>5</th>\n",
       "      <td>Dieter Schulz</td>\n",
       "      <td>3</td>\n",
       "      <td>Heidelberg</td>\n",
       "      <td>Handelsrecht</td>\n",
       "      <td>6.0</td>\n",
       "    </tr>\n",
       "    <tr>\n",
       "      <th>6</th>\n",
       "      <td>Dieter Schulz</td>\n",
       "      <td>3</td>\n",
       "      <td>Heidelberg</td>\n",
       "      <td>Strafprozessrecht</td>\n",
       "      <td>204.0</td>\n",
       "    </tr>\n",
       "    <tr>\n",
       "      <th>7</th>\n",
       "      <td>Dieter Schulz</td>\n",
       "      <td>3</td>\n",
       "      <td>Heidelberg</td>\n",
       "      <td>Polizeirecht</td>\n",
       "      <td>105.0</td>\n",
       "    </tr>\n",
       "    <tr>\n",
       "      <th>8</th>\n",
       "      <td>Dieter Schulz</td>\n",
       "      <td>3</td>\n",
       "      <td>Heidelberg</td>\n",
       "      <td>Mobiliarsachenrecht</td>\n",
       "      <td>NaN</td>\n",
       "    </tr>\n",
       "    <tr>\n",
       "      <th>9</th>\n",
       "      <td>Sonja Meier</td>\n",
       "      <td>5</td>\n",
       "      <td>Heidelberg</td>\n",
       "      <td>Gesellschaftsrecht</td>\n",
       "      <td>NaN</td>\n",
       "    </tr>\n",
       "    <tr>\n",
       "      <th>10</th>\n",
       "      <td>Sonja Meier</td>\n",
       "      <td>5</td>\n",
       "      <td>Heidelberg</td>\n",
       "      <td>Baurecht</td>\n",
       "      <td>NaN</td>\n",
       "    </tr>\n",
       "    <tr>\n",
       "      <th>11</th>\n",
       "      <td>Sonja Meier</td>\n",
       "      <td>5</td>\n",
       "      <td>Heidelberg</td>\n",
       "      <td>Staatsrecht III Vertiefung</td>\n",
       "      <td>NaN</td>\n",
       "    </tr>\n",
       "    <tr>\n",
       "      <th>12</th>\n",
       "      <td>Sonja Meier</td>\n",
       "      <td>5</td>\n",
       "      <td>Heidelberg</td>\n",
       "      <td>Erbrecht</td>\n",
       "      <td>NaN</td>\n",
       "    </tr>\n",
       "    <tr>\n",
       "      <th>13</th>\n",
       "      <td>Markus Meier</td>\n",
       "      <td>3</td>\n",
       "      <td>Münster</td>\n",
       "      <td>Staatsrecht III: Bezüge zum Völker- und Europa...</td>\n",
       "      <td>NaN</td>\n",
       "    </tr>\n",
       "    <tr>\n",
       "      <th>14</th>\n",
       "      <td>Markus Meier</td>\n",
       "      <td>3</td>\n",
       "      <td>Münster</td>\n",
       "      <td>Sachenrecht</td>\n",
       "      <td>4.0</td>\n",
       "    </tr>\n",
       "    <tr>\n",
       "      <th>15</th>\n",
       "      <td>Peter Bäcker</td>\n",
       "      <td>4</td>\n",
       "      <td>Münster</td>\n",
       "      <td>Gesellschaftsrecht</td>\n",
       "      <td>7.0</td>\n",
       "    </tr>\n",
       "    <tr>\n",
       "      <th>16</th>\n",
       "      <td>Peter Bäcker</td>\n",
       "      <td>4</td>\n",
       "      <td>Münster</td>\n",
       "      <td>Erbrecht</td>\n",
       "      <td>11.0</td>\n",
       "    </tr>\n",
       "    <tr>\n",
       "      <th>17</th>\n",
       "      <td>Sara Schmidt</td>\n",
       "      <td>4</td>\n",
       "      <td>Münster</td>\n",
       "      <td>Gesellschaftsrecht</td>\n",
       "      <td>7.0</td>\n",
       "    </tr>\n",
       "    <tr>\n",
       "      <th>18</th>\n",
       "      <td>Sara Schmidt</td>\n",
       "      <td>4</td>\n",
       "      <td>Münster</td>\n",
       "      <td>Erbrecht</td>\n",
       "      <td>11.0</td>\n",
       "    </tr>\n",
       "    <tr>\n",
       "      <th>19</th>\n",
       "      <td>Sara Schmidt</td>\n",
       "      <td>4</td>\n",
       "      <td>Münster</td>\n",
       "      <td>Verwaltungsrecht_BT_2_(Kommunalrecht_und_Baule...</td>\n",
       "      <td>106.0</td>\n",
       "    </tr>\n",
       "    <tr>\n",
       "      <th>20</th>\n",
       "      <td>Hans Wurst</td>\n",
       "      <td>1</td>\n",
       "      <td>Bayreuth</td>\n",
       "      <td>bgb_at</td>\n",
       "      <td>1.0</td>\n",
       "    </tr>\n",
       "    <tr>\n",
       "      <th>21</th>\n",
       "      <td>Lena Gärtner</td>\n",
       "      <td>5</td>\n",
       "      <td>Münster</td>\n",
       "      <td>Handelsrecht</td>\n",
       "      <td>6.0</td>\n",
       "    </tr>\n",
       "    <tr>\n",
       "      <th>22</th>\n",
       "      <td>Dorothe Doll</td>\n",
       "      <td>1</td>\n",
       "      <td>Heidelberg</td>\n",
       "      <td>Grundkurs Zivilrecht I</td>\n",
       "      <td>1.0</td>\n",
       "    </tr>\n",
       "    <tr>\n",
       "      <th>23</th>\n",
       "      <td>Maraike Metzger</td>\n",
       "      <td>1</td>\n",
       "      <td>Bayreuth</td>\n",
       "      <td>bgb_at</td>\n",
       "      <td>1.0</td>\n",
       "    </tr>\n",
       "    <tr>\n",
       "      <th>24</th>\n",
       "      <td>Anna Herzog</td>\n",
       "      <td>1</td>\n",
       "      <td>Münster</td>\n",
       "      <td>BGB allgemeiner Teil</td>\n",
       "      <td>1.0</td>\n",
       "    </tr>\n",
       "  </tbody>\n",
       "</table>\n",
       "</div>"
      ],
      "text/plain": [
       "               Name  Semester         Uni  \\\n",
       "0       Lisa Müller         4    Bayreuth   \n",
       "1       Lisa Müller         4    Bayreuth   \n",
       "2       Lisa Müller         4    Bayreuth   \n",
       "3       Lisa Müller         4    Bayreuth   \n",
       "4      Lukas Justus         5    Bayreuth   \n",
       "5     Dieter Schulz         3  Heidelberg   \n",
       "6     Dieter Schulz         3  Heidelberg   \n",
       "7     Dieter Schulz         3  Heidelberg   \n",
       "8     Dieter Schulz         3  Heidelberg   \n",
       "9       Sonja Meier         5  Heidelberg   \n",
       "10      Sonja Meier         5  Heidelberg   \n",
       "11      Sonja Meier         5  Heidelberg   \n",
       "12      Sonja Meier         5  Heidelberg   \n",
       "13     Markus Meier         3     Münster   \n",
       "14     Markus Meier         3     Münster   \n",
       "15     Peter Bäcker         4     Münster   \n",
       "16     Peter Bäcker         4     Münster   \n",
       "17     Sara Schmidt         4     Münster   \n",
       "18     Sara Schmidt         4     Münster   \n",
       "19     Sara Schmidt         4     Münster   \n",
       "20       Hans Wurst         1    Bayreuth   \n",
       "21     Lena Gärtner         5     Münster   \n",
       "22     Dorothe Doll         1  Heidelberg   \n",
       "23  Maraike Metzger         1    Bayreuth   \n",
       "24      Anna Herzog         1     Münster   \n",
       "\n",
       "                                                modul  modul_id  \n",
       "0                                        Handelsrecht       6.0  \n",
       "1                                Gesellschaftsrecht I       7.0  \n",
       "2                         Besonderes Verwaltungsrecht     105.0  \n",
       "3                                   Strafprozessrecht     204.0  \n",
       "4                                            Erbrecht      11.0  \n",
       "5                                        Handelsrecht       6.0  \n",
       "6                                   Strafprozessrecht     204.0  \n",
       "7                                        Polizeirecht     105.0  \n",
       "8                                 Mobiliarsachenrecht       NaN  \n",
       "9                                  Gesellschaftsrecht       NaN  \n",
       "10                                           Baurecht       NaN  \n",
       "11                         Staatsrecht III Vertiefung       NaN  \n",
       "12                                           Erbrecht       NaN  \n",
       "13  Staatsrecht III: Bezüge zum Völker- und Europa...       NaN  \n",
       "14                                        Sachenrecht       4.0  \n",
       "15                                 Gesellschaftsrecht       7.0  \n",
       "16                                           Erbrecht      11.0  \n",
       "17                                 Gesellschaftsrecht       7.0  \n",
       "18                                           Erbrecht      11.0  \n",
       "19  Verwaltungsrecht_BT_2_(Kommunalrecht_und_Baule...     106.0  \n",
       "20                                             bgb_at       1.0  \n",
       "21                                       Handelsrecht       6.0  \n",
       "22                             Grundkurs Zivilrecht I       1.0  \n",
       "23                                             bgb_at       1.0  \n",
       "24                               BGB allgemeiner Teil       1.0  "
      ]
     },
     "execution_count": 21,
     "metadata": {},
     "output_type": "execute_result"
    }
   ],
   "source": [
    "data_joined.head(25)"
   ]
  },
  {
   "cell_type": "code",
   "execution_count": 22,
   "metadata": {},
   "outputs": [
    {
     "data": {
      "text/plain": [
       "Name        0\n",
       "Semester    0\n",
       "Uni         0\n",
       "modul       0\n",
       "modul_id    6\n",
       "dtype: int64"
      ]
     },
     "execution_count": 22,
     "metadata": {},
     "output_type": "execute_result"
    }
   ],
   "source": [
    "data_joined.isna().sum()"
   ]
  },
  {
   "cell_type": "code",
   "execution_count": null,
   "metadata": {},
   "outputs": [],
   "source": []
  },
  {
   "cell_type": "markdown",
   "metadata": {},
   "source": [
    "Wir haben jetzt die verknüpften Daten. Bei Name gibt es viele fehlende Werte, weil alle im ersten Semester sind und somit gibt es keine Werte für die anderen Semester. Überlegung: Man könnte für jeden Studenten, der schon ein weiteres Semester gemacht hat eine weitere Zeile anlegen und da das Semester ändern. Im ersten Semester hat man also nur eine Zeile im fünften dann Fünf. (Also in der Tabelle mit den Daten der Studenten) Im Notebook oder händisch?\n"
   ]
  },
  {
   "cell_type": "markdown",
   "metadata": {},
   "source": [
    "Die Kurse, die keiner belegt haben, sollen nicht NaN sein, sondern da soll 'Niemand' stehen:"
   ]
  },
  {
   "cell_type": "code",
   "execution_count": 23,
   "metadata": {},
   "outputs": [],
   "source": [
    "#data_joined = data_joined.dropna()"
   ]
  },
  {
   "cell_type": "code",
   "execution_count": 24,
   "metadata": {},
   "outputs": [
    {
     "name": "stdout",
     "output_type": "stream",
     "text": [
      "<class 'pandas.core.frame.DataFrame'>\n",
      "RangeIndex: 25 entries, 0 to 24\n",
      "Data columns (total 5 columns):\n",
      " #   Column    Non-Null Count  Dtype  \n",
      "---  ------    --------------  -----  \n",
      " 0   Name      25 non-null     object \n",
      " 1   Semester  25 non-null     int64  \n",
      " 2   Uni       25 non-null     object \n",
      " 3   modul     25 non-null     object \n",
      " 4   modul_id  19 non-null     float64\n",
      "dtypes: float64(1), int64(1), object(3)\n",
      "memory usage: 1.1+ KB\n"
     ]
    }
   ],
   "source": [
    "data_joined.info()"
   ]
  },
  {
   "cell_type": "markdown",
   "metadata": {},
   "source": [
    "Ich habe keine Ahnung, warum wir da nur 19 Werte haben, kann sich das irgendwer erklären?"
   ]
  },
  {
   "cell_type": "markdown",
   "metadata": {},
   "source": [
    "## Daten modellieren"
   ]
  },
  {
   "cell_type": "code",
   "execution_count": 25,
   "metadata": {},
   "outputs": [
    {
     "data": {
      "text/html": [
       "<div>\n",
       "<style scoped>\n",
       "    .dataframe tbody tr th:only-of-type {\n",
       "        vertical-align: middle;\n",
       "    }\n",
       "\n",
       "    .dataframe tbody tr th {\n",
       "        vertical-align: top;\n",
       "    }\n",
       "\n",
       "    .dataframe thead th {\n",
       "        text-align: right;\n",
       "    }\n",
       "</style>\n",
       "<table border=\"1\" class=\"dataframe\">\n",
       "  <thead>\n",
       "    <tr style=\"text-align: right;\">\n",
       "      <th></th>\n",
       "      <th>Name</th>\n",
       "      <th>modul_id</th>\n",
       "      <th>modul</th>\n",
       "    </tr>\n",
       "  </thead>\n",
       "  <tbody>\n",
       "    <tr>\n",
       "      <th>0</th>\n",
       "      <td>Lisa Müller</td>\n",
       "      <td>6.0</td>\n",
       "      <td>Handelsrecht</td>\n",
       "    </tr>\n",
       "    <tr>\n",
       "      <th>1</th>\n",
       "      <td>Lisa Müller</td>\n",
       "      <td>7.0</td>\n",
       "      <td>Gesellschaftsrecht I</td>\n",
       "    </tr>\n",
       "    <tr>\n",
       "      <th>2</th>\n",
       "      <td>Lisa Müller</td>\n",
       "      <td>105.0</td>\n",
       "      <td>Besonderes Verwaltungsrecht</td>\n",
       "    </tr>\n",
       "    <tr>\n",
       "      <th>3</th>\n",
       "      <td>Lisa Müller</td>\n",
       "      <td>204.0</td>\n",
       "      <td>Strafprozessrecht</td>\n",
       "    </tr>\n",
       "    <tr>\n",
       "      <th>4</th>\n",
       "      <td>Lukas Justus</td>\n",
       "      <td>11.0</td>\n",
       "      <td>Erbrecht</td>\n",
       "    </tr>\n",
       "  </tbody>\n",
       "</table>\n",
       "</div>"
      ],
      "text/plain": [
       "           Name  modul_id                        modul\n",
       "0   Lisa Müller       6.0                 Handelsrecht\n",
       "1   Lisa Müller       7.0         Gesellschaftsrecht I\n",
       "2   Lisa Müller     105.0  Besonderes Verwaltungsrecht\n",
       "3   Lisa Müller     204.0            Strafprozessrecht\n",
       "4  Lukas Justus      11.0                     Erbrecht"
      ]
     },
     "execution_count": 25,
     "metadata": {},
     "output_type": "execute_result"
    }
   ],
   "source": [
    "newframe = data_joined.loc[:,['Name','modul_id','modul']]\n",
    "newframe.head()"
   ]
  },
  {
   "cell_type": "code",
   "execution_count": 26,
   "metadata": {},
   "outputs": [
    {
     "data": {
      "text/html": [
       "<div>\n",
       "<style scoped>\n",
       "    .dataframe tbody tr th:only-of-type {\n",
       "        vertical-align: middle;\n",
       "    }\n",
       "\n",
       "    .dataframe tbody tr th {\n",
       "        vertical-align: top;\n",
       "    }\n",
       "\n",
       "    .dataframe thead th {\n",
       "        text-align: right;\n",
       "    }\n",
       "</style>\n",
       "<table border=\"1\" class=\"dataframe\">\n",
       "  <thead>\n",
       "    <tr style=\"text-align: right;\">\n",
       "      <th></th>\n",
       "      <th>modul_id</th>\n",
       "      <th>modul</th>\n",
       "    </tr>\n",
       "    <tr>\n",
       "      <th>Name</th>\n",
       "      <th></th>\n",
       "      <th></th>\n",
       "    </tr>\n",
       "  </thead>\n",
       "  <tbody>\n",
       "    <tr>\n",
       "      <th>Anna Herzog</th>\n",
       "      <td>1.0</td>\n",
       "      <td>BGB allgemeiner Teil</td>\n",
       "    </tr>\n",
       "    <tr>\n",
       "      <th>Dieter Schulz</th>\n",
       "      <td>NaN</td>\n",
       "      <td>Mobiliarsachenrecht</td>\n",
       "    </tr>\n",
       "    <tr>\n",
       "      <th>Dieter Schulz</th>\n",
       "      <td>6.0</td>\n",
       "      <td>Handelsrecht</td>\n",
       "    </tr>\n",
       "    <tr>\n",
       "      <th>Dieter Schulz</th>\n",
       "      <td>204.0</td>\n",
       "      <td>Strafprozessrecht</td>\n",
       "    </tr>\n",
       "    <tr>\n",
       "      <th>Dieter Schulz</th>\n",
       "      <td>105.0</td>\n",
       "      <td>Polizeirecht</td>\n",
       "    </tr>\n",
       "    <tr>\n",
       "      <th>Dorothe Doll</th>\n",
       "      <td>1.0</td>\n",
       "      <td>Grundkurs Zivilrecht I</td>\n",
       "    </tr>\n",
       "    <tr>\n",
       "      <th>Hans Wurst</th>\n",
       "      <td>1.0</td>\n",
       "      <td>bgb_at</td>\n",
       "    </tr>\n",
       "    <tr>\n",
       "      <th>Lena Gärtner</th>\n",
       "      <td>6.0</td>\n",
       "      <td>Handelsrecht</td>\n",
       "    </tr>\n",
       "    <tr>\n",
       "      <th>Lisa Müller</th>\n",
       "      <td>6.0</td>\n",
       "      <td>Handelsrecht</td>\n",
       "    </tr>\n",
       "    <tr>\n",
       "      <th>Lisa Müller</th>\n",
       "      <td>204.0</td>\n",
       "      <td>Strafprozessrecht</td>\n",
       "    </tr>\n",
       "    <tr>\n",
       "      <th>Lisa Müller</th>\n",
       "      <td>105.0</td>\n",
       "      <td>Besonderes Verwaltungsrecht</td>\n",
       "    </tr>\n",
       "    <tr>\n",
       "      <th>Lisa Müller</th>\n",
       "      <td>7.0</td>\n",
       "      <td>Gesellschaftsrecht I</td>\n",
       "    </tr>\n",
       "    <tr>\n",
       "      <th>Lukas Justus</th>\n",
       "      <td>11.0</td>\n",
       "      <td>Erbrecht</td>\n",
       "    </tr>\n",
       "    <tr>\n",
       "      <th>Maraike Metzger</th>\n",
       "      <td>1.0</td>\n",
       "      <td>bgb_at</td>\n",
       "    </tr>\n",
       "    <tr>\n",
       "      <th>Markus Meier</th>\n",
       "      <td>NaN</td>\n",
       "      <td>Staatsrecht III: Bezüge zum Völker- und Europa...</td>\n",
       "    </tr>\n",
       "    <tr>\n",
       "      <th>Markus Meier</th>\n",
       "      <td>4.0</td>\n",
       "      <td>Sachenrecht</td>\n",
       "    </tr>\n",
       "    <tr>\n",
       "      <th>Peter Bäcker</th>\n",
       "      <td>7.0</td>\n",
       "      <td>Gesellschaftsrecht</td>\n",
       "    </tr>\n",
       "    <tr>\n",
       "      <th>Peter Bäcker</th>\n",
       "      <td>11.0</td>\n",
       "      <td>Erbrecht</td>\n",
       "    </tr>\n",
       "    <tr>\n",
       "      <th>Sara Schmidt</th>\n",
       "      <td>7.0</td>\n",
       "      <td>Gesellschaftsrecht</td>\n",
       "    </tr>\n",
       "    <tr>\n",
       "      <th>Sara Schmidt</th>\n",
       "      <td>11.0</td>\n",
       "      <td>Erbrecht</td>\n",
       "    </tr>\n",
       "    <tr>\n",
       "      <th>Sara Schmidt</th>\n",
       "      <td>106.0</td>\n",
       "      <td>Verwaltungsrecht_BT_2_(Kommunalrecht_und_Baule...</td>\n",
       "    </tr>\n",
       "    <tr>\n",
       "      <th>Sonja Meier</th>\n",
       "      <td>NaN</td>\n",
       "      <td>Gesellschaftsrecht</td>\n",
       "    </tr>\n",
       "    <tr>\n",
       "      <th>Sonja Meier</th>\n",
       "      <td>NaN</td>\n",
       "      <td>Baurecht</td>\n",
       "    </tr>\n",
       "    <tr>\n",
       "      <th>Sonja Meier</th>\n",
       "      <td>NaN</td>\n",
       "      <td>Staatsrecht III Vertiefung</td>\n",
       "    </tr>\n",
       "    <tr>\n",
       "      <th>Sonja Meier</th>\n",
       "      <td>NaN</td>\n",
       "      <td>Erbrecht</td>\n",
       "    </tr>\n",
       "  </tbody>\n",
       "</table>\n",
       "</div>"
      ],
      "text/plain": [
       "                 modul_id                                              modul\n",
       "Name                                                                        \n",
       "Anna Herzog           1.0                               BGB allgemeiner Teil\n",
       "Dieter Schulz         NaN                                Mobiliarsachenrecht\n",
       "Dieter Schulz         6.0                                       Handelsrecht\n",
       "Dieter Schulz       204.0                                  Strafprozessrecht\n",
       "Dieter Schulz       105.0                                       Polizeirecht\n",
       "Dorothe Doll          1.0                             Grundkurs Zivilrecht I\n",
       "Hans Wurst            1.0                                             bgb_at\n",
       "Lena Gärtner          6.0                                       Handelsrecht\n",
       "Lisa Müller           6.0                                       Handelsrecht\n",
       "Lisa Müller         204.0                                  Strafprozessrecht\n",
       "Lisa Müller         105.0                        Besonderes Verwaltungsrecht\n",
       "Lisa Müller           7.0                               Gesellschaftsrecht I\n",
       "Lukas Justus         11.0                                           Erbrecht\n",
       "Maraike Metzger       1.0                                             bgb_at\n",
       "Markus Meier          NaN  Staatsrecht III: Bezüge zum Völker- und Europa...\n",
       "Markus Meier          4.0                                        Sachenrecht\n",
       "Peter Bäcker          7.0                                 Gesellschaftsrecht\n",
       "Peter Bäcker         11.0                                           Erbrecht\n",
       "Sara Schmidt          7.0                                 Gesellschaftsrecht\n",
       "Sara Schmidt         11.0                                           Erbrecht\n",
       "Sara Schmidt        106.0  Verwaltungsrecht_BT_2_(Kommunalrecht_und_Baule...\n",
       "Sonja Meier           NaN                                 Gesellschaftsrecht\n",
       "Sonja Meier           NaN                                           Baurecht\n",
       "Sonja Meier           NaN                         Staatsrecht III Vertiefung\n",
       "Sonja Meier           NaN                                           Erbrecht"
      ]
     },
     "execution_count": 26,
     "metadata": {},
     "output_type": "execute_result"
    }
   ],
   "source": [
    "newframe.set_index('Name').sort_index()"
   ]
  },
  {
   "cell_type": "code",
   "execution_count": 27,
   "metadata": {},
   "outputs": [],
   "source": [
    "#newframe.columns(newframe['modul_id'])"
   ]
  },
  {
   "cell_type": "code",
   "execution_count": 28,
   "metadata": {},
   "outputs": [
    {
     "ename": "SyntaxError",
     "evalue": "invalid syntax (<ipython-input-28-476dec8066db>, line 9)",
     "output_type": "error",
     "traceback": [
      "\u001b[1;36m  File \u001b[1;32m\"<ipython-input-28-476dec8066db>\"\u001b[1;36m, line \u001b[1;32m9\u001b[0m\n\u001b[1;33m    matchdata['modul1']=\u001b[0m\n\u001b[1;37m                        ^\u001b[0m\n\u001b[1;31mSyntaxError\u001b[0m\u001b[1;31m:\u001b[0m invalid syntax\n"
     ]
    }
   ],
   "source": [
    "matchdata = pd.DataFrame({'modul1' : [],\n",
    "                   'modul2': [],\n",
    "                   'modul3': [],\n",
    "                   'modul4': [],\n",
    "                    'Name' : []}, \n",
    "                    columns = ['modul1', 'modul2', 'modul3', 'Name'])\n",
    "\n",
    "for name in newframe['Name']:\n",
    "    matchdata['modul1']="
   ]
  },
  {
   "cell_type": "markdown",
   "metadata": {},
   "source": [
    "Ja und hier kommen wir noch nicht weiter.."
   ]
  },
  {
   "cell_type": "markdown",
   "metadata": {},
   "source": [
    "## Matching"
   ]
  },
  {
   "cell_type": "code",
   "execution_count": null,
   "metadata": {},
   "outputs": [],
   "source": [
    "kmeans = KMeans(n_clusters=50, random_state=0).fit(data_joined['modul_id',''])\n"
   ]
  },
  {
   "cell_type": "code",
   "execution_count": null,
   "metadata": {},
   "outputs": [],
   "source": []
  },
  {
   "cell_type": "code",
   "execution_count": null,
   "metadata": {},
   "outputs": [],
   "source": []
  }
 ],
 "metadata": {
  "kernelspec": {
   "display_name": "Python 3",
   "language": "python",
   "name": "python3"
  },
  "language_info": {
   "codemirror_mode": {
    "name": "ipython",
    "version": 3
   },
   "file_extension": ".py",
   "mimetype": "text/x-python",
   "name": "python",
   "nbconvert_exporter": "python",
   "pygments_lexer": "ipython3",
   "version": "3.8.3"
  }
 },
 "nbformat": 4,
 "nbformat_minor": 4
}
